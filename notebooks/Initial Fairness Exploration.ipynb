{
 "cells": [
  {
   "cell_type": "code",
   "execution_count": 29,
   "metadata": {},
   "outputs": [],
   "source": [
    "import sys\n",
    "sys.path.append('../fair_regression')\n",
    "\n",
    "import h5py\n",
    "import torch\n",
    "from torch.autograd import Variable\n",
    "\n",
    "from FairLogReg import FairLogisticRegression\n",
    "\n",
    "def train_split(x, y, pct):\n",
    "    nsamples = len(y)\n",
    "    nsamples_val = int(pct * nsamples)\n",
    "    srs = torch.utils.data.sampler.SubsetRandomSampler(range(nsamples))\n",
    "    idxs = []\n",
    "    for n, i in enumerate(srs):\n",
    "        idxs.append(i)\n",
    "        if n == nsamples_val - 1:\n",
    "            x_val = x[idxs]\n",
    "            y_val = y[idxs]\n",
    "            idxs = []\n",
    "    x = x[idxs]\n",
    "    y = y[idxs]\n",
    "\n",
    "    return x, y, x_val, y_val"
   ]
  },
  {
   "cell_type": "code",
   "execution_count": 30,
   "metadata": {},
   "outputs": [],
   "source": [
    "try:\n",
    "    f = h5py.File('../data/data_31.h5', 'r')\n",
    "except(OSError):\n",
    "    f.close()\n",
    "    f = h5py.File('../data/data_31.h5', 'r')\n",
    "\n",
    "X = Variable(torch.from_numpy(f['data'].value))\n",
    "y = Variable(torch.from_numpy(f['target'].value).long())\n",
    "labels = [li.decode() for li in f['labels'].value]\n",
    "f.close()\n",
    "\n",
    "X_train, y_train, X_test, y_test = train_split(X, y, 0.2)"
   ]
  },
  {
   "cell_type": "code",
   "execution_count": 31,
   "metadata": {},
   "outputs": [
    {
     "name": "stdout",
     "output_type": "stream",
     "text": [
      "Epoch [4/32] Training    CE Loss: 0.47071   Accuracy: 0.84869\n",
      "              Validation  CE Loss: 0.32965   Accuracy: 0.84784\n",
      "Epoch [8/32] Training    CE Loss: 0.22045   Accuracy: 0.8475\n",
      "              Validation  CE Loss: 0.33028   Accuracy: 0.84835\n",
      "Epoch [12/32] Training    CE Loss: 0.25281   Accuracy: 0.84834\n",
      "              Validation  CE Loss: 0.33033   Accuracy: 0.84873\n",
      "Epoch [16/32] Training    CE Loss: 0.30061   Accuracy: 0.84958\n",
      "              Validation  CE Loss: 0.33086   Accuracy: 0.84924\n",
      "Epoch [20/32] Training    CE Loss: 0.26864   Accuracy: 0.84843\n",
      "              Validation  CE Loss: 0.33248   Accuracy: 0.84681\n",
      "Epoch [24/32] Training    CE Loss: 0.2989   Accuracy: 0.84834\n",
      "              Validation  CE Loss: 0.32952   Accuracy: 0.84681\n",
      "Epoch [28/32] Training    CE Loss: 0.20758   Accuracy: 0.85035\n",
      "              Validation  CE Loss: 0.33203   Accuracy: 0.8495\n",
      "Epoch [32/32] Training    CE Loss: 0.36662   Accuracy: 0.84814\n",
      "              Validation  CE Loss: 0.33083   Accuracy: 0.84822\n"
     ]
    },
    {
     "data": {
      "text/plain": [
       "<FairLogReg.FairLogisticRegression at 0x11bec2ef0>"
      ]
     },
     "execution_count": 31,
     "metadata": {},
     "output_type": "execute_result"
    }
   ],
   "source": [
    "lr = FairLogisticRegression(validate=0.2, print_freq=4)\n",
    "lr.fit(X_train, y_train, [labels.index('sex_Female')])"
   ]
  },
  {
   "cell_type": "code",
   "execution_count": 32,
   "metadata": {},
   "outputs": [
    {
     "ename": "RuntimeError",
     "evalue": "size mismatch, m1: [32 x 31], m2: [2 x 31] at /Users/soumith/minicondabuild3/conda-bld/pytorch_1518385717421/work/torch/lib/TH/generic/THTensorMath.c:1434",
     "output_type": "error",
     "traceback": [
      "\u001b[0;31m---------------------------------------------------------------------------\u001b[0m",
      "\u001b[0;31mRuntimeError\u001b[0m                              Traceback (most recent call last)",
      "\u001b[0;32m<ipython-input-32-6b8dc95e4f75>\u001b[0m in \u001b[0;36m<module>\u001b[0;34m()\u001b[0m\n\u001b[1;32m      1\u001b[0m \u001b[0mflr\u001b[0m \u001b[0;34m=\u001b[0m \u001b[0mFairLogisticRegression\u001b[0m\u001b[0;34m(\u001b[0m\u001b[0mvalidate\u001b[0m\u001b[0;34m=\u001b[0m\u001b[0;36m0.2\u001b[0m\u001b[0;34m,\u001b[0m \u001b[0mprint_freq\u001b[0m\u001b[0;34m=\u001b[0m\u001b[0;36m4\u001b[0m\u001b[0;34m,\u001b[0m \u001b[0ml_fair\u001b[0m\u001b[0;34m=\u001b[0m\u001b[0;36m0.1\u001b[0m\u001b[0;34m)\u001b[0m\u001b[0;34m\u001b[0m\u001b[0m\n\u001b[0;32m----> 2\u001b[0;31m \u001b[0mflr\u001b[0m\u001b[0;34m.\u001b[0m\u001b[0mfit\u001b[0m\u001b[0;34m(\u001b[0m\u001b[0mX_train\u001b[0m\u001b[0;34m,\u001b[0m \u001b[0my_train\u001b[0m\u001b[0;34m,\u001b[0m \u001b[0;34m[\u001b[0m\u001b[0mlabels\u001b[0m\u001b[0;34m.\u001b[0m\u001b[0mindex\u001b[0m\u001b[0;34m(\u001b[0m\u001b[0;34m'sex_Female'\u001b[0m\u001b[0;34m)\u001b[0m\u001b[0;34m]\u001b[0m\u001b[0;34m)\u001b[0m\u001b[0;34m\u001b[0m\u001b[0m\n\u001b[0m",
      "\u001b[0;32m~/Desktop/EE380L/final_project/fair_regression/FairLogReg.py\u001b[0m in \u001b[0;36mfit\u001b[0;34m(self, x, y, s, writer)\u001b[0m\n\u001b[1;32m    131\u001b[0m                     \u001b[0mloss\u001b[0m \u001b[0;34m+=\u001b[0m \u001b[0mself\u001b[0m\u001b[0;34m.\u001b[0m\u001b[0ml1_penalty\u001b[0m\u001b[0;34m(\u001b[0m\u001b[0;34m)\u001b[0m\u001b[0;34m\u001b[0m\u001b[0m\n\u001b[1;32m    132\u001b[0m                 \u001b[0;32mif\u001b[0m \u001b[0mself\u001b[0m\u001b[0;34m.\u001b[0m\u001b[0ml_fair\u001b[0m\u001b[0;34m:\u001b[0m\u001b[0;34m\u001b[0m\u001b[0m\n\u001b[0;32m--> 133\u001b[0;31m                     \u001b[0mloss\u001b[0m \u001b[0;34m+=\u001b[0m \u001b[0mself\u001b[0m\u001b[0;34m.\u001b[0m\u001b[0mfairness_penalty\u001b[0m\u001b[0;34m(\u001b[0m\u001b[0minputs\u001b[0m\u001b[0;34m,\u001b[0m \u001b[0mlabels\u001b[0m\u001b[0;34m,\u001b[0m \u001b[0mx\u001b[0m\u001b[0;34m,\u001b[0m \u001b[0my\u001b[0m\u001b[0;34m,\u001b[0m \u001b[0ms\u001b[0m\u001b[0;34m)\u001b[0m\u001b[0;34m\u001b[0m\u001b[0m\n\u001b[0m\u001b[1;32m    134\u001b[0m                 \u001b[0mloss\u001b[0m\u001b[0;34m.\u001b[0m\u001b[0mbackward\u001b[0m\u001b[0;34m(\u001b[0m\u001b[0mretain_graph\u001b[0m\u001b[0;34m=\u001b[0m\u001b[0;32mTrue\u001b[0m\u001b[0;34m)\u001b[0m\u001b[0;34m\u001b[0m\u001b[0m\n\u001b[1;32m    135\u001b[0m \u001b[0;34m\u001b[0m\u001b[0m\n",
      "\u001b[0;32m~/Desktop/EE380L/final_project/fair_regression/FairLogReg.py\u001b[0m in \u001b[0;36mfairness_penalty\u001b[0;34m(self, xi, yi, x, y, s)\u001b[0m\n\u001b[1;32m    212\u001b[0m         \u001b[0;32mfor\u001b[0m \u001b[0midxs\u001b[0m\u001b[0;34m,\u001b[0m \u001b[0mval\u001b[0m\u001b[0;34m,\u001b[0m \u001b[0mdiv\u001b[0m \u001b[0;32min\u001b[0m \u001b[0mzip\u001b[0m\u001b[0;34m(\u001b[0m\u001b[0mself\u001b[0m\u001b[0;34m.\u001b[0m\u001b[0mfairness_idxs\u001b[0m\u001b[0;34m,\u001b[0m \u001b[0mself\u001b[0m\u001b[0;34m.\u001b[0m\u001b[0mvals\u001b[0m\u001b[0;34m,\u001b[0m \u001b[0mself\u001b[0m\u001b[0;34m.\u001b[0m\u001b[0mdivisors\u001b[0m\u001b[0;34m)\u001b[0m\u001b[0;34m:\u001b[0m\u001b[0;34m\u001b[0m\u001b[0m\n\u001b[1;32m    213\u001b[0m             \u001b[0;31m# Should be size (self.minibatch_size x n_classes)\u001b[0m\u001b[0;34m\u001b[0m\u001b[0;34m\u001b[0m\u001b[0m\n\u001b[0;32m--> 214\u001b[0;31m             \u001b[0mlocal_dots\u001b[0m \u001b[0;34m=\u001b[0m \u001b[0mtorch\u001b[0m\u001b[0;34m.\u001b[0m\u001b[0mmm\u001b[0m\u001b[0;34m(\u001b[0m\u001b[0mxi\u001b[0m\u001b[0;34m,\u001b[0m \u001b[0mself\u001b[0m\u001b[0;34m.\u001b[0m\u001b[0mget_weights\u001b[0m\u001b[0;34m(\u001b[0m\u001b[0;34m)\u001b[0m\u001b[0;34m)\u001b[0m\u001b[0;34m\u001b[0m\u001b[0m\n\u001b[0m\u001b[1;32m    215\u001b[0m             \u001b[0;32mfor\u001b[0m \u001b[0midx\u001b[0m \u001b[0;32min\u001b[0m \u001b[0midxs\u001b[0m\u001b[0;34m:\u001b[0m\u001b[0;34m\u001b[0m\u001b[0m\n\u001b[1;32m    216\u001b[0m                 \u001b[0;31m# Because of broadcasting rules, this should create a matrix of absolute differences\u001b[0m\u001b[0;34m\u001b[0m\u001b[0;34m\u001b[0m\u001b[0m\n",
      "\u001b[0;31mRuntimeError\u001b[0m: size mismatch, m1: [32 x 31], m2: [2 x 31] at /Users/soumith/minicondabuild3/conda-bld/pytorch_1518385717421/work/torch/lib/TH/generic/THTensorMath.c:1434"
     ]
    }
   ],
   "source": [
    "flr = FairLogisticRegression(validate=0.2, print_freq=4, l_fair=0.1)\n",
    "flr.fit(X_train, y_train, [labels.index('sex_Female')])"
   ]
  },
  {
   "cell_type": "code",
   "execution_count": null,
   "metadata": {},
   "outputs": [],
   "source": []
  }
 ],
 "metadata": {
  "kernelspec": {
   "display_name": "Python 3",
   "language": "python",
   "name": "python3"
  },
  "language_info": {
   "codemirror_mode": {
    "name": "ipython",
    "version": 3
   },
   "file_extension": ".py",
   "mimetype": "text/x-python",
   "name": "python",
   "nbconvert_exporter": "python",
   "pygments_lexer": "ipython3",
   "version": "3.6.4"
  }
 },
 "nbformat": 4,
 "nbformat_minor": 2
}
