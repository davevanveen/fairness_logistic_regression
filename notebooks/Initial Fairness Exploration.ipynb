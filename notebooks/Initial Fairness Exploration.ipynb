{
 "cells": [
  {
   "cell_type": "code",
   "execution_count": 7,
   "metadata": {},
   "outputs": [],
   "source": [
    "import sys\n",
    "sys.path.append('../fair_regression')\n",
    "\n",
    "import h5py\n",
    "import torch\n",
    "from torch.autograd import Variable\n",
    "\n",
    "from FairLogReg import FairLogisticRegression\n",
    "\n",
    "def train_split(x, y, pct):\n",
    "    nsamples = len(y)\n",
    "    nsamples_val = int(pct * nsamples)\n",
    "    srs = torch.utils.data.sampler.SubsetRandomSampler(range(nsamples))\n",
    "    idxs = []\n",
    "    for n, i in enumerate(srs):\n",
    "        idxs.append(i)\n",
    "        if n == nsamples_val - 1:\n",
    "            x_val = x[idxs]\n",
    "            y_val = y[idxs]\n",
    "            idxs = []\n",
    "    x = x[idxs]\n",
    "    y = y[idxs]\n",
    "\n",
    "    return x, y, x_val, y_val"
   ]
  },
  {
   "cell_type": "code",
   "execution_count": 13,
   "metadata": {},
   "outputs": [],
   "source": [
    "f = h5py.File('../data/data_31.h5', 'r')\n",
    "X = Variable(torch.from_numpy(f['data'].value))\n",
    "y = Variable(torch.from_numpy(f['target'].value).long())\n",
    "\n",
    "X_train, y_train, X_test, y_test = train_split(X, y, 0.2)"
   ]
  },
  {
   "cell_type": "code",
   "execution_count": 14,
   "metadata": {},
   "outputs": [
    {
     "name": "stdout",
     "output_type": "stream",
     "text": [
      "Epoch [4/32] Training    CE Loss: 0.47059   Accuracy: 0.84907\n",
      "              Validation  CE Loss: 0.33485   Accuracy: 0.84285\n",
      "Epoch [8/32] Training    CE Loss: 0.34666   Accuracy: 0.85019\n",
      "              Validation  CE Loss: 0.33537   Accuracy: 0.844\n",
      "Epoch [12/32] Training    CE Loss: 0.38011   Accuracy: 0.85026\n",
      "              Validation  CE Loss: 0.33296   Accuracy: 0.84425\n",
      "Epoch [16/32] Training    CE Loss: 0.28626   Accuracy: 0.85048\n",
      "              Validation  CE Loss: 0.33259   Accuracy: 0.844\n",
      "Epoch [20/32] Training    CE Loss: 0.41574   Accuracy: 0.84994\n",
      "              Validation  CE Loss: 0.33409   Accuracy: 0.84259\n",
      "Epoch [24/32] Training    CE Loss: 0.30715   Accuracy: 0.84962\n",
      "              Validation  CE Loss: 0.3352   Accuracy: 0.84669\n",
      "Epoch [28/32] Training    CE Loss: 0.42267   Accuracy: 0.85035\n",
      "              Validation  CE Loss: 0.33225   Accuracy: 0.84374\n",
      "Epoch [32/32] Training    CE Loss: 0.30846   Accuracy: 0.84955\n",
      "              Validation  CE Loss: 0.3347   Accuracy: 0.84477\n"
     ]
    },
    {
     "data": {
      "text/plain": [
       "<FairLogReg.FairLogisticRegression at 0x11f111f98>"
      ]
     },
     "execution_count": 14,
     "metadata": {},
     "output_type": "execute_result"
    }
   ],
   "source": [
    "lr = FairLogisticRegression(validate=0.2, print_freq=4)\n",
    "lr.fit(X_train, y_train, [0])"
   ]
  },
  {
   "cell_type": "code",
   "execution_count": null,
   "metadata": {},
   "outputs": [],
   "source": [
    "flr = FairLogisticRegression(validate=0.2, print_freq=4, l_fair=0.1)\n",
    "flr.fit(X_train, y_train)"
   ]
  }
 ],
 "metadata": {
  "kernelspec": {
   "display_name": "Python 3",
   "language": "python",
   "name": "python3"
  },
  "language_info": {
   "codemirror_mode": {
    "name": "ipython",
    "version": 3
   },
   "file_extension": ".py",
   "mimetype": "text/x-python",
   "name": "python",
   "nbconvert_exporter": "python",
   "pygments_lexer": "ipython3",
   "version": "3.6.4"
  }
 },
 "nbformat": 4,
 "nbformat_minor": 2
}
